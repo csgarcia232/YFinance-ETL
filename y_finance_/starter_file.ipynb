{
 "cells": [
  {
   "cell_type": "code",
   "execution_count": 24,
   "metadata": {},
   "outputs": [],
   "source": [
    "import yfinance as yf\n",
    "from datetime import date\n",
    "import pandas as pd\n",
    "import json"
   ]
  },
  {
   "cell_type": "code",
   "execution_count": 3,
   "metadata": {},
   "outputs": [
    {
     "name": "stdout",
     "output_type": "stream",
     "text": [
      "[*********************100%***********************]  1 of 1 completed\n",
      "[*********************100%***********************]  1 of 1 completed\n",
      "[*********************100%***********************]  1 of 1 completed\n",
      "[*********************100%***********************]  1 of 1 completed\n"
     ]
    }
   ],
   "source": [
    "end = date.today()\n",
    "tickers_list = [\"TSLA\",\"GM\",\"F\",\"DODGX\"]\n",
    "\n",
    "\n",
    "data = pd.DataFrame(columns=tickers_list)\n",
    "\n",
    "for ticker in tickers_list:\n",
    "    data[ticker] = yf.download(ticker, \"2016-2-22\", end)[\"Adj Close\"]\n",
    "\n",
    "df = data.reset_index()\n",
    "\n",
    "df.to_csv(\"yfinance.csv\", index=False)"
   ]
  },
  {
   "cell_type": "code",
   "execution_count": 4,
   "metadata": {},
   "outputs": [
    {
     "data": {
      "text/html": [
       "<div>\n",
       "<style scoped>\n",
       "    .dataframe tbody tr th:only-of-type {\n",
       "        vertical-align: middle;\n",
       "    }\n",
       "\n",
       "    .dataframe tbody tr th {\n",
       "        vertical-align: top;\n",
       "    }\n",
       "\n",
       "    .dataframe thead th {\n",
       "        text-align: right;\n",
       "    }\n",
       "</style>\n",
       "<table border=\"1\" class=\"dataframe\">\n",
       "  <thead>\n",
       "    <tr style=\"text-align: right;\">\n",
       "      <th></th>\n",
       "      <th>TSLA</th>\n",
       "      <th>GM</th>\n",
       "      <th>F</th>\n",
       "      <th>DODGX</th>\n",
       "    </tr>\n",
       "    <tr>\n",
       "      <th>Date</th>\n",
       "      <th></th>\n",
       "      <th></th>\n",
       "      <th></th>\n",
       "      <th></th>\n",
       "    </tr>\n",
       "  </thead>\n",
       "  <tbody>\n",
       "    <tr>\n",
       "      <th>2016-02-22</th>\n",
       "      <td>177.740005</td>\n",
       "      <td>24.753447</td>\n",
       "      <td>10.040338</td>\n",
       "      <td>108.349815</td>\n",
       "    </tr>\n",
       "    <tr>\n",
       "      <th>2016-02-23</th>\n",
       "      <td>177.210007</td>\n",
       "      <td>24.544594</td>\n",
       "      <td>9.928422</td>\n",
       "      <td>106.539925</td>\n",
       "    </tr>\n",
       "    <tr>\n",
       "      <th>2016-02-24</th>\n",
       "      <td>179.000000</td>\n",
       "      <td>24.093464</td>\n",
       "      <td>9.656631</td>\n",
       "      <td>107.033508</td>\n",
       "    </tr>\n",
       "    <tr>\n",
       "      <th>2016-02-25</th>\n",
       "      <td>187.429993</td>\n",
       "      <td>24.644842</td>\n",
       "      <td>9.904439</td>\n",
       "      <td>108.113754</td>\n",
       "    </tr>\n",
       "    <tr>\n",
       "      <th>2016-02-26</th>\n",
       "      <td>190.339996</td>\n",
       "      <td>24.753447</td>\n",
       "      <td>9.968390</td>\n",
       "      <td>108.779030</td>\n",
       "    </tr>\n",
       "    <tr>\n",
       "      <th>...</th>\n",
       "      <td>...</td>\n",
       "      <td>...</td>\n",
       "      <td>...</td>\n",
       "      <td>...</td>\n",
       "    </tr>\n",
       "    <tr>\n",
       "      <th>2020-02-06</th>\n",
       "      <td>748.960022</td>\n",
       "      <td>34.330002</td>\n",
       "      <td>8.250000</td>\n",
       "      <td>195.660004</td>\n",
       "    </tr>\n",
       "    <tr>\n",
       "      <th>2020-02-07</th>\n",
       "      <td>748.070007</td>\n",
       "      <td>33.630001</td>\n",
       "      <td>8.110000</td>\n",
       "      <td>194.720001</td>\n",
       "    </tr>\n",
       "    <tr>\n",
       "      <th>2020-02-10</th>\n",
       "      <td>771.280029</td>\n",
       "      <td>34.250000</td>\n",
       "      <td>8.060000</td>\n",
       "      <td>195.300003</td>\n",
       "    </tr>\n",
       "    <tr>\n",
       "      <th>2020-02-11</th>\n",
       "      <td>774.380005</td>\n",
       "      <td>35.009998</td>\n",
       "      <td>8.100000</td>\n",
       "      <td>196.860001</td>\n",
       "    </tr>\n",
       "    <tr>\n",
       "      <th>2020-02-12</th>\n",
       "      <td>767.289978</td>\n",
       "      <td>35.490002</td>\n",
       "      <td>8.240000</td>\n",
       "      <td>198.570007</td>\n",
       "    </tr>\n",
       "  </tbody>\n",
       "</table>\n",
       "<p>1002 rows × 4 columns</p>\n",
       "</div>"
      ],
      "text/plain": [
       "                  TSLA         GM          F       DODGX\n",
       "Date                                                    \n",
       "2016-02-22  177.740005  24.753447  10.040338  108.349815\n",
       "2016-02-23  177.210007  24.544594   9.928422  106.539925\n",
       "2016-02-24  179.000000  24.093464   9.656631  107.033508\n",
       "2016-02-25  187.429993  24.644842   9.904439  108.113754\n",
       "2016-02-26  190.339996  24.753447   9.968390  108.779030\n",
       "...                ...        ...        ...         ...\n",
       "2020-02-06  748.960022  34.330002   8.250000  195.660004\n",
       "2020-02-07  748.070007  33.630001   8.110000  194.720001\n",
       "2020-02-10  771.280029  34.250000   8.060000  195.300003\n",
       "2020-02-11  774.380005  35.009998   8.100000  196.860001\n",
       "2020-02-12  767.289978  35.490002   8.240000  198.570007\n",
       "\n",
       "[1002 rows x 4 columns]"
      ]
     },
     "execution_count": 4,
     "metadata": {},
     "output_type": "execute_result"
    }
   ],
   "source": [
    "data"
   ]
  },
  {
   "cell_type": "code",
   "execution_count": 13,
   "metadata": {},
   "outputs": [
    {
     "name": "stdout",
     "output_type": "stream",
     "text": [
      "yfinance.Ticker object <TSLA>\n"
     ]
    }
   ],
   "source": [
    "tsla = yf.Ticker(\"TSLA\")\n",
    "print(tsla)"
   ]
  },
  {
   "cell_type": "code",
   "execution_count": 26,
   "metadata": {},
   "outputs": [],
   "source": [
    "tsla_info = tsla.info\n"
   ]
  },
  {
   "cell_type": "code",
   "execution_count": 37,
   "metadata": {},
   "outputs": [
    {
     "data": {
      "text/html": [
       "<div>\n",
       "<style scoped>\n",
       "    .dataframe tbody tr th:only-of-type {\n",
       "        vertical-align: middle;\n",
       "    }\n",
       "\n",
       "    .dataframe tbody tr th {\n",
       "        vertical-align: top;\n",
       "    }\n",
       "\n",
       "    .dataframe thead th {\n",
       "        text-align: right;\n",
       "    }\n",
       "</style>\n",
       "<table border=\"1\" class=\"dataframe\">\n",
       "  <thead>\n",
       "    <tr style=\"text-align: right;\">\n",
       "      <th></th>\n",
       "      <th>zip</th>\n",
       "      <th>sector</th>\n",
       "      <th>longBusinessSummary</th>\n",
       "      <th>city</th>\n",
       "      <th>phone</th>\n",
       "      <th>state</th>\n",
       "      <th>country</th>\n",
       "      <th>companyOfficers</th>\n",
       "      <th>website</th>\n",
       "      <th>maxAge</th>\n",
       "      <th>...</th>\n",
       "      <th>earningsQuarterlyGrowth</th>\n",
       "      <th>dateShortInterest</th>\n",
       "      <th>pegRatio</th>\n",
       "      <th>lastCapGain</th>\n",
       "      <th>shortPercentOfFloat</th>\n",
       "      <th>sharesShortPriorMonth</th>\n",
       "      <th>category</th>\n",
       "      <th>fiveYearAverageReturn</th>\n",
       "      <th>regularMarketPrice</th>\n",
       "      <th>logo_url</th>\n",
       "    </tr>\n",
       "  </thead>\n",
       "  <tbody>\n",
       "  </tbody>\n",
       "</table>\n",
       "<p>0 rows × 118 columns</p>\n",
       "</div>"
      ],
      "text/plain": [
       "Empty DataFrame\n",
       "Columns: [zip, sector, longBusinessSummary, city, phone, state, country, companyOfficers, website, maxAge, address1, industry, previousClose, regularMarketOpen, twoHundredDayAverage, trailingAnnualDividendYield, payoutRatio, volume24Hr, regularMarketDayHigh, navPrice, averageDailyVolume10Day, totalAssets, regularMarketPreviousClose, fiftyDayAverage, trailingAnnualDividendRate, open, averageVolume10days, expireDate, yield, algorithm, dividendRate, exDividendDate, beta, circulatingSupply, startDate, regularMarketDayLow, priceHint, currency, regularMarketVolume, lastMarket, maxSupply, openInterest, marketCap, volumeAllCurrencies, strikePrice, averageVolume, priceToSalesTrailing12Months, dayLow, ask, ytdReturn, askSize, volume, fiftyTwoWeekHigh, forwardPE, fromCurrency, fiveYearAvgDividendYield, fiftyTwoWeekLow, bid, tradeable, dividendYield, bidSize, dayHigh, exchange, shortName, longName, exchangeTimezoneName, exchangeTimezoneShortName, isEsgPopulated, gmtOffSetMilliseconds, quoteType, symbol, messageBoardId, market, annualHoldingsTurnover, enterpriseToRevenue, beta3Year, profitMargins, enterpriseToEbitda, 52WeekChange, morningStarRiskRating, forwardEps, revenueQuarterlyGrowth, sharesOutstanding, fundInceptionDate, annualReportExpenseRatio, bookValue, sharesShort, sharesPercentSharesOut, fundFamily, lastFiscalYearEnd, heldPercentInstitutions, netIncomeToCommon, trailingEps, lastDividendValue, SandP52WeekChange, priceToBook, heldPercentInsiders, nextFiscalYearEnd, mostRecentQuarter, shortRatio, ...]\n",
       "Index: []\n",
       "\n",
       "[0 rows x 118 columns]"
      ]
     },
     "execution_count": 37,
     "metadata": {},
     "output_type": "execute_result"
    }
   ],
   "source": [
    "tsladf = pd.DataFrame(tsla_info)\n",
    "tsladf"
   ]
  },
  {
   "cell_type": "code",
   "execution_count": 19,
   "metadata": {},
   "outputs": [],
   "source": []
  },
  {
   "cell_type": "code",
   "execution_count": 20,
   "metadata": {},
   "outputs": [
    {
     "data": {
      "text/html": [
       "<div>\n",
       "<style scoped>\n",
       "    .dataframe tbody tr th:only-of-type {\n",
       "        vertical-align: middle;\n",
       "    }\n",
       "\n",
       "    .dataframe tbody tr th {\n",
       "        vertical-align: top;\n",
       "    }\n",
       "\n",
       "    .dataframe thead th {\n",
       "        text-align: right;\n",
       "    }\n",
       "</style>\n",
       "<table border=\"1\" class=\"dataframe\">\n",
       "  <thead>\n",
       "    <tr style=\"text-align: right;\">\n",
       "      <th></th>\n",
       "      <th>zip</th>\n",
       "      <th>sector</th>\n",
       "      <th>longBusinessSummary</th>\n",
       "      <th>city</th>\n",
       "      <th>phone</th>\n",
       "      <th>state</th>\n",
       "      <th>country</th>\n",
       "      <th>companyOfficers</th>\n",
       "      <th>website</th>\n",
       "      <th>maxAge</th>\n",
       "      <th>...</th>\n",
       "      <th>earningsQuarterlyGrowth</th>\n",
       "      <th>dateShortInterest</th>\n",
       "      <th>pegRatio</th>\n",
       "      <th>lastCapGain</th>\n",
       "      <th>shortPercentOfFloat</th>\n",
       "      <th>sharesShortPriorMonth</th>\n",
       "      <th>category</th>\n",
       "      <th>fiveYearAverageReturn</th>\n",
       "      <th>regularMarketPrice</th>\n",
       "      <th>logo_url</th>\n",
       "    </tr>\n",
       "  </thead>\n",
       "  <tbody>\n",
       "  </tbody>\n",
       "</table>\n",
       "<p>0 rows × 118 columns</p>\n",
       "</div>"
      ],
      "text/plain": [
       "Empty DataFrame\n",
       "Columns: [zip, sector, longBusinessSummary, city, phone, state, country, companyOfficers, website, maxAge, address1, industry, previousClose, regularMarketOpen, twoHundredDayAverage, trailingAnnualDividendYield, payoutRatio, volume24Hr, regularMarketDayHigh, navPrice, averageDailyVolume10Day, totalAssets, regularMarketPreviousClose, fiftyDayAverage, trailingAnnualDividendRate, open, averageVolume10days, expireDate, yield, algorithm, dividendRate, exDividendDate, beta, circulatingSupply, startDate, regularMarketDayLow, priceHint, currency, regularMarketVolume, lastMarket, maxSupply, openInterest, marketCap, volumeAllCurrencies, strikePrice, averageVolume, priceToSalesTrailing12Months, dayLow, ask, ytdReturn, askSize, volume, fiftyTwoWeekHigh, forwardPE, fromCurrency, fiveYearAvgDividendYield, fiftyTwoWeekLow, bid, tradeable, dividendYield, bidSize, dayHigh, exchange, shortName, longName, exchangeTimezoneName, exchangeTimezoneShortName, isEsgPopulated, gmtOffSetMilliseconds, quoteType, symbol, messageBoardId, market, annualHoldingsTurnover, enterpriseToRevenue, beta3Year, profitMargins, enterpriseToEbitda, 52WeekChange, morningStarRiskRating, forwardEps, revenueQuarterlyGrowth, sharesOutstanding, fundInceptionDate, annualReportExpenseRatio, bookValue, sharesShort, sharesPercentSharesOut, fundFamily, lastFiscalYearEnd, heldPercentInstitutions, netIncomeToCommon, trailingEps, lastDividendValue, SandP52WeekChange, priceToBook, heldPercentInsiders, nextFiscalYearEnd, mostRecentQuarter, shortRatio, ...]\n",
       "Index: []\n",
       "\n",
       "[0 rows x 118 columns]"
      ]
     },
     "execution_count": 20,
     "metadata": {},
     "output_type": "execute_result"
    }
   ],
   "source": []
  },
  {
   "cell_type": "code",
   "execution_count": null,
   "metadata": {},
   "outputs": [],
   "source": []
  }
 ],
 "metadata": {
  "kernelspec": {
   "display_name": "Python 3",
   "language": "python",
   "name": "python3"
  },
  "language_info": {
   "codemirror_mode": {
    "name": "ipython",
    "version": 3
   },
   "file_extension": ".py",
   "mimetype": "text/x-python",
   "name": "python",
   "nbconvert_exporter": "python",
   "pygments_lexer": "ipython3",
   "version": "3.6.9"
  }
 },
 "nbformat": 4,
 "nbformat_minor": 2
}
